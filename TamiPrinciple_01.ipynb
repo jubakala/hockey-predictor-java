{
  "nbformat": 4,
  "nbformat_minor": 0,
  "metadata": {
    "colab": {
      "name": "TamiPrinciple - first tests.ipynb",
      "provenance": [],
      "collapsed_sections": [],
      "toc_visible": true,
      "authorship_tag": "ABX9TyM7iN0x1gQmsCg0qvLZlHF3",
      "include_colab_link": true
    },
    "kernelspec": {
      "name": "python3",
      "display_name": "Python 3"
    }
  },
  "cells": [
    {
      "cell_type": "markdown",
      "metadata": {
        "id": "view-in-github",
        "colab_type": "text"
      },
      "source": [
        "<a href=\"https://colab.research.google.com/github/jubakala/hockey-predictor-java/blob/master/TamiPrinciple_01.ipynb\" target=\"_parent\"><img src=\"https://colab.research.google.com/assets/colab-badge.svg\" alt=\"Open In Colab\"/></a>"
      ]
    },
    {
      "cell_type": "code",
      "metadata": {
        "id": "qozaJqPQ2zOW"
      },
      "source": [
        "import pandas as pd\n",
        "import matplotlib.pyplot as plt\n",
        "import seaborn as sns"
      ],
      "execution_count": null,
      "outputs": []
    },
    {
      "cell_type": "code",
      "metadata": {
        "id": "9yH3JRm_Flvq"
      },
      "source": [
        "import numpy as np"
      ],
      "execution_count": 2,
      "outputs": []
    },
    {
      "cell_type": "code",
      "metadata": {
        "id": "hI3C4brz57g8"
      },
      "source": [
        "from sklearn.linear_model import LinearRegression\n",
        "from sklearn.model_selection import train_test_split"
      ],
      "execution_count": 3,
      "outputs": []
    },
    {
      "cell_type": "markdown",
      "metadata": {
        "id": "6SHwfzxYAsp2"
      },
      "source": [
        "# Phase I"
      ]
    },
    {
      "cell_type": "markdown",
      "metadata": {
        "id": "Is4W8x7t45B8"
      },
      "source": [
        "\n",
        "**First, let's explore the relationship between goalie's win percentage and save percentage, and win percentage and goals against average.**\n"
      ]
    },
    {
      "cell_type": "code",
      "metadata": {
        "id": "8MilNFvg3BfU"
      },
      "source": [
        "df = pd.read_csv('goalies.csv')"
      ],
      "execution_count": 4,
      "outputs": []
    },
    {
      "cell_type": "code",
      "metadata": {
        "id": "19I7Okgv3F2I",
        "outputId": "4d7f059a-c99d-44b6-9b7c-a50ede2fb36d",
        "colab": {
          "base_uri": "https://localhost:8080/",
          "height": 204
        }
      },
      "source": [
        "df.head()"
      ],
      "execution_count": 5,
      "outputs": [
        {
          "output_type": "execute_result",
          "data": {
            "text/html": [
              "<div>\n",
              "<style scoped>\n",
              "    .dataframe tbody tr th:only-of-type {\n",
              "        vertical-align: middle;\n",
              "    }\n",
              "\n",
              "    .dataframe tbody tr th {\n",
              "        vertical-align: top;\n",
              "    }\n",
              "\n",
              "    .dataframe thead th {\n",
              "        text-align: right;\n",
              "    }\n",
              "</style>\n",
              "<table border=\"1\" class=\"dataframe\">\n",
              "  <thead>\n",
              "    <tr style=\"text-align: right;\">\n",
              "      <th></th>\n",
              "      <th>Season</th>\n",
              "      <th>Team</th>\n",
              "      <th>Player</th>\n",
              "      <th>Saves</th>\n",
              "      <th>Shots</th>\n",
              "      <th>Conceded</th>\n",
              "      <th>Matches</th>\n",
              "      <th>TOC</th>\n",
              "      <th>Wins</th>\n",
              "      <th>Save%</th>\n",
              "      <th>GA</th>\n",
              "      <th>Win%</th>\n",
              "    </tr>\n",
              "  </thead>\n",
              "  <tbody>\n",
              "    <tr>\n",
              "      <th>0</th>\n",
              "      <td>1997-1998</td>\n",
              "      <td>PIT</td>\n",
              "      <td>Tom Barrasso</td>\n",
              "      <td>1203</td>\n",
              "      <td>1293</td>\n",
              "      <td>90</td>\n",
              "      <td>47</td>\n",
              "      <td>172473</td>\n",
              "      <td>22</td>\n",
              "      <td>93.04</td>\n",
              "      <td>1.88</td>\n",
              "      <td>45.92</td>\n",
              "    </tr>\n",
              "    <tr>\n",
              "      <th>1</th>\n",
              "      <td>1997-1998</td>\n",
              "      <td>LAK</td>\n",
              "      <td>Stephane Fiset</td>\n",
              "      <td>1339</td>\n",
              "      <td>1471</td>\n",
              "      <td>132</td>\n",
              "      <td>50</td>\n",
              "      <td>182341</td>\n",
              "      <td>22</td>\n",
              "      <td>91.03</td>\n",
              "      <td>2.61</td>\n",
              "      <td>43.44</td>\n",
              "    </tr>\n",
              "    <tr>\n",
              "      <th>2</th>\n",
              "      <td>1997-1998</td>\n",
              "      <td>PHI</td>\n",
              "      <td>Ron Hextall</td>\n",
              "      <td>781</td>\n",
              "      <td>860</td>\n",
              "      <td>79</td>\n",
              "      <td>35</td>\n",
              "      <td>127669</td>\n",
              "      <td>14</td>\n",
              "      <td>90.81</td>\n",
              "      <td>2.23</td>\n",
              "      <td>39.48</td>\n",
              "    </tr>\n",
              "    <tr>\n",
              "      <th>3</th>\n",
              "      <td>1997-1998</td>\n",
              "      <td>FLA</td>\n",
              "      <td>John Vanbiesbrouck</td>\n",
              "      <td>1252</td>\n",
              "      <td>1379</td>\n",
              "      <td>127</td>\n",
              "      <td>49</td>\n",
              "      <td>178976</td>\n",
              "      <td>15</td>\n",
              "      <td>90.79</td>\n",
              "      <td>2.55</td>\n",
              "      <td>30.17</td>\n",
              "    </tr>\n",
              "    <tr>\n",
              "      <th>4</th>\n",
              "      <td>1997-1998</td>\n",
              "      <td>MTL</td>\n",
              "      <td>Andy Moog</td>\n",
              "      <td>769</td>\n",
              "      <td>840</td>\n",
              "      <td>71</td>\n",
              "      <td>32</td>\n",
              "      <td>116615</td>\n",
              "      <td>14</td>\n",
              "      <td>91.55</td>\n",
              "      <td>2.19</td>\n",
              "      <td>43.22</td>\n",
              "    </tr>\n",
              "  </tbody>\n",
              "</table>\n",
              "</div>"
            ],
            "text/plain": [
              "      Season Team              Player  Saves  ...  Wins  Save%    GA   Win%\n",
              "0  1997-1998  PIT        Tom Barrasso   1203  ...    22  93.04  1.88  45.92\n",
              "1  1997-1998  LAK      Stephane Fiset   1339  ...    22  91.03  2.61  43.44\n",
              "2  1997-1998  PHI         Ron Hextall    781  ...    14  90.81  2.23  39.48\n",
              "3  1997-1998  FLA  John Vanbiesbrouck   1252  ...    15  90.79  2.55  30.17\n",
              "4  1997-1998  MTL           Andy Moog    769  ...    14  91.55  2.19  43.22\n",
              "\n",
              "[5 rows x 12 columns]"
            ]
          },
          "metadata": {
            "tags": []
          },
          "execution_count": 5
        }
      ]
    },
    {
      "cell_type": "markdown",
      "metadata": {
        "id": "HIhBURllxCaz"
      },
      "source": [
        "**Let's take into account only goalies that have played at least 20 matches.**"
      ]
    },
    {
      "cell_type": "code",
      "metadata": {
        "id": "-N4B68Qn3Guv"
      },
      "source": [
        "filtered = df[df['Matches'] > 19]"
      ],
      "execution_count": 6,
      "outputs": []
    },
    {
      "cell_type": "markdown",
      "metadata": {
        "id": "O4M7NOnixH3X"
      },
      "source": [
        "**There doesn't seem to be very strong correlation between the goalies save percentage and his win percentage.**"
      ]
    },
    {
      "cell_type": "code",
      "metadata": {
        "id": "25wziMov3TtM",
        "outputId": "3f8f8acf-8c21-43dd-ef92-3ece8fac95a3",
        "colab": {
          "base_uri": "https://localhost:8080/",
          "height": 297
        }
      },
      "source": [
        "sns.scatterplot(x='Save%', y='Win%', data=filtered)"
      ],
      "execution_count": 7,
      "outputs": [
        {
          "output_type": "execute_result",
          "data": {
            "text/plain": [
              "<matplotlib.axes._subplots.AxesSubplot at 0x7fe2d24e75f8>"
            ]
          },
          "metadata": {
            "tags": []
          },
          "execution_count": 7
        },
        {
          "output_type": "display_data",
          "data": {
            "image/png": "[encoded data removed]",
            "text/plain": [
              "<Figure size 432x288 with 1 Axes>"
            ]
          },
          "metadata": {
            "tags": [],
            "needs_background": "light"
          }
        }
      ]
    },
    {
      "cell_type": "markdown",
      "metadata": {
        "id": "SSR-fvALxXJw"
      },
      "source": [
        "**The correlation between goals against average and win percent is a little bit stronger and clearer.**"
      ]
    },
    {
      "cell_type": "code",
      "metadata": {
        "id": "yn2jeQ974QWY",
        "outputId": "c5f31ff8-ee77-48a6-c9d7-0206a8b91e00",
        "colab": {
          "base_uri": "https://localhost:8080/",
          "height": 297
        }
      },
      "source": [
        "sns.scatterplot(x='GA', y='Win%', data=filtered)"
      ],
      "execution_count": 8,
      "outputs": [
        {
          "output_type": "execute_result",
          "data": {
            "text/plain": [
              "<matplotlib.axes._subplots.AxesSubplot at 0x7fe2d23e0898>"
            ]
          },
          "metadata": {
            "tags": []
          },
          "execution_count": 8
        },
        {
          "output_type": "display_data",
          "data": {
            "image/png": "[encoded data removed]",
            "text/plain": [
              "<Figure size 432x288 with 1 Axes>"
            ]
          },
          "metadata": {
            "tags": [],
            "needs_background": "light"
          }
        }
      ]
    },
    {
      "cell_type": "markdown",
      "metadata": {
        "id": "pRJRB7RJxhj7"
      },
      "source": [
        "**Let's use linear regression to explore more the relationship between goals against average and win percentage.**"
      ]
    },
    {
      "cell_type": "code",
      "metadata": {
        "id": "yYc88Mui5Uvl"
      },
      "source": [
        "X = filtered.iloc[:, 10:11].values\n",
        "y = filtered.iloc[:, -1].values"
      ],
      "execution_count": 9,
      "outputs": []
    },
    {
      "cell_type": "code",
      "metadata": {
        "id": "5w_sK0y06uUI"
      },
      "source": [
        "X_train, X_test, y_train, y_test = train_test_split(X, y, test_size=0.2, random_state=101)"
      ],
      "execution_count": 10,
      "outputs": []
    },
    {
      "cell_type": "code",
      "metadata": {
        "id": "m-mGQ5yR7Fvw"
      },
      "source": [
        "X_train = X_train.reshape(-1, 1)\n",
        "y_train = y_train.reshape(-1, 1)\n",
        "X_test = X_test.reshape(-1, 1)\n",
        "y_test = y_test.reshape(-1, 1)"
      ],
      "execution_count": 11,
      "outputs": []
    },
    {
      "cell_type": "code",
      "metadata": {
        "id": "g9VfmmHM643z"
      },
      "source": [
        "regressor = LinearRegression()"
      ],
      "execution_count": 12,
      "outputs": []
    },
    {
      "cell_type": "code",
      "metadata": {
        "id": "aa-YJO1T66OZ",
        "outputId": "d4044ef7-93cd-45d8-9cd0-fb2ba4c3a4cd",
        "colab": {
          "base_uri": "https://localhost:8080/",
          "height": 34
        }
      },
      "source": [
        "regressor.fit(X_train, y_train)"
      ],
      "execution_count": 13,
      "outputs": [
        {
          "output_type": "execute_result",
          "data": {
            "text/plain": [
              "LinearRegression(copy_X=True, fit_intercept=True, n_jobs=None, normalize=False)"
            ]
          },
          "metadata": {
            "tags": []
          },
          "execution_count": 13
        }
      ]
    },
    {
      "cell_type": "code",
      "metadata": {
        "id": "4wHlpsdO68_d"
      },
      "source": [
        "y_pred = regressor.predict(X_test)"
      ],
      "execution_count": 14,
      "outputs": []
    },
    {
      "cell_type": "markdown",
      "metadata": {
        "id": "xV1K5g1sx9rR"
      },
      "source": [
        "**There clearly seems to be a negative relationship between the goals against average and win percentage. The smaller the GA, the bigger the win percentage. Although, there are a lot of outliers, a trend can be seen the plot.**"
      ]
    },
    {
      "cell_type": "code",
      "metadata": {
        "id": "9Lzt4vih7zrf",
        "outputId": "df5e239c-08ee-4d96-865d-055228807a51",
        "colab": {
          "base_uri": "https://localhost:8080/",
          "height": 483
        }
      },
      "source": [
        "# Training dataset.\n",
        "plt.figure(figsize=(12,8))\n",
        "plt.scatter(X_train, y_train, color='green')\n",
        "plt.plot(X_train, regressor.predict(X_train), color='blue')\n",
        "plt.show()"
      ],
      "execution_count": 15,
      "outputs": [
        {
          "output_type": "display_data",
          "data": {
            "image/png": "[encoded data removed]",
            "text/plain": [
              "<Figure size 864x576 with 1 Axes>"
            ]
          },
          "metadata": {
            "tags": [],
            "needs_background": "light"
          }
        }
      ]
    },
    {
      "cell_type": "code",
      "metadata": {
        "id": "chz9So4977Th",
        "outputId": "a2382fe0-e3c7-4151-cae2-5da26e2e8f78",
        "colab": {
          "base_uri": "https://localhost:8080/",
          "height": 428
        }
      },
      "source": [
        "# Test set.\n",
        "plt.figure(figsize=(10,7))\n",
        "plt.scatter(X_test, y_test, color='green')\n",
        "plt.plot(X_train, regressor.predict(X_train), color='blue')\n",
        "plt.show()"
      ],
      "execution_count": 16,
      "outputs": [
        {
          "output_type": "display_data",
          "data": {
            "image/png": "[encoded data removed]",
            "text/plain": [
              "<Figure size 720x504 with 1 Axes>"
            ]
          },
          "metadata": {
            "tags": [],
            "needs_background": "light"
          }
        }
      ]
    },
    {
      "cell_type": "markdown",
      "metadata": {
        "id": "7KF6Zhmlzenl"
      },
      "source": [
        "**Let's test how both goals against average and save percentage correlate to the win percentage using multilinear regression.**"
      ]
    },
    {
      "cell_type": "code",
      "metadata": {
        "id": "XMWNbl0O_4Yq",
        "outputId": "9fd68f85-d390-449f-d24b-aad1a1c7a8c8",
        "colab": {
          "base_uri": "https://localhost:8080/",
          "height": 204
        }
      },
      "source": [
        "filtered.head()"
      ],
      "execution_count": 17,
      "outputs": [
        {
          "output_type": "execute_result",
          "data": {
            "text/html": [
              "<div>\n",
              "<style scoped>\n",
              "    .dataframe tbody tr th:only-of-type {\n",
              "        vertical-align: middle;\n",
              "    }\n",
              "\n",
              "    .dataframe tbody tr th {\n",
              "        vertical-align: top;\n",
              "    }\n",
              "\n",
              "    .dataframe thead th {\n",
              "        text-align: right;\n",
              "    }\n",
              "</style>\n",
              "<table border=\"1\" class=\"dataframe\">\n",
              "  <thead>\n",
              "    <tr style=\"text-align: right;\">\n",
              "      <th></th>\n",
              "      <th>Season</th>\n",
              "      <th>Team</th>\n",
              "      <th>Player</th>\n",
              "      <th>Saves</th>\n",
              "      <th>Shots</th>\n",
              "      <th>Conceded</th>\n",
              "      <th>Matches</th>\n",
              "      <th>TOC</th>\n",
              "      <th>Wins</th>\n",
              "      <th>Save%</th>\n",
              "      <th>GA</th>\n",
              "      <th>Win%</th>\n",
              "    </tr>\n",
              "  </thead>\n",
              "  <tbody>\n",
              "    <tr>\n",
              "      <th>0</th>\n",
              "      <td>1997-1998</td>\n",
              "      <td>PIT</td>\n",
              "      <td>Tom Barrasso</td>\n",
              "      <td>1203</td>\n",
              "      <td>1293</td>\n",
              "      <td>90</td>\n",
              "      <td>47</td>\n",
              "      <td>172473</td>\n",
              "      <td>22</td>\n",
              "      <td>93.04</td>\n",
              "      <td>1.88</td>\n",
              "      <td>45.92</td>\n",
              "    </tr>\n",
              "    <tr>\n",
              "      <th>1</th>\n",
              "      <td>1997-1998</td>\n",
              "      <td>LAK</td>\n",
              "      <td>Stephane Fiset</td>\n",
              "      <td>1339</td>\n",
              "      <td>1471</td>\n",
              "      <td>132</td>\n",
              "      <td>50</td>\n",
              "      <td>182341</td>\n",
              "      <td>22</td>\n",
              "      <td>91.03</td>\n",
              "      <td>2.61</td>\n",
              "      <td>43.44</td>\n",
              "    </tr>\n",
              "    <tr>\n",
              "      <th>2</th>\n",
              "      <td>1997-1998</td>\n",
              "      <td>PHI</td>\n",
              "      <td>Ron Hextall</td>\n",
              "      <td>781</td>\n",
              "      <td>860</td>\n",
              "      <td>79</td>\n",
              "      <td>35</td>\n",
              "      <td>127669</td>\n",
              "      <td>14</td>\n",
              "      <td>90.81</td>\n",
              "      <td>2.23</td>\n",
              "      <td>39.48</td>\n",
              "    </tr>\n",
              "    <tr>\n",
              "      <th>3</th>\n",
              "      <td>1997-1998</td>\n",
              "      <td>FLA</td>\n",
              "      <td>John Vanbiesbrouck</td>\n",
              "      <td>1252</td>\n",
              "      <td>1379</td>\n",
              "      <td>127</td>\n",
              "      <td>49</td>\n",
              "      <td>178976</td>\n",
              "      <td>15</td>\n",
              "      <td>90.79</td>\n",
              "      <td>2.55</td>\n",
              "      <td>30.17</td>\n",
              "    </tr>\n",
              "    <tr>\n",
              "      <th>4</th>\n",
              "      <td>1997-1998</td>\n",
              "      <td>MTL</td>\n",
              "      <td>Andy Moog</td>\n",
              "      <td>769</td>\n",
              "      <td>840</td>\n",
              "      <td>71</td>\n",
              "      <td>32</td>\n",
              "      <td>116615</td>\n",
              "      <td>14</td>\n",
              "      <td>91.55</td>\n",
              "      <td>2.19</td>\n",
              "      <td>43.22</td>\n",
              "    </tr>\n",
              "  </tbody>\n",
              "</table>\n",
              "</div>"
            ],
            "text/plain": [
              "      Season Team              Player  Saves  ...  Wins  Save%    GA   Win%\n",
              "0  1997-1998  PIT        Tom Barrasso   1203  ...    22  93.04  1.88  45.92\n",
              "1  1997-1998  LAK      Stephane Fiset   1339  ...    22  91.03  2.61  43.44\n",
              "2  1997-1998  PHI         Ron Hextall    781  ...    14  90.81  2.23  39.48\n",
              "3  1997-1998  FLA  John Vanbiesbrouck   1252  ...    15  90.79  2.55  30.17\n",
              "4  1997-1998  MTL           Andy Moog    769  ...    14  91.55  2.19  43.22\n",
              "\n",
              "[5 rows x 12 columns]"
            ]
          },
          "metadata": {
            "tags": []
          },
          "execution_count": 17
        }
      ]
    },
    {
      "cell_type": "code",
      "metadata": {
        "id": "ws5jd9gOC-_A"
      },
      "source": [
        "filtered = filtered.drop(['Season', 'Team','Player', 'Saves', 'Shots','Conceded', 'Matches', 'TOC', 'Wins'], axis=1)"
      ],
      "execution_count": 18,
      "outputs": []
    },
    {
      "cell_type": "code",
      "metadata": {
        "id": "Jy5Jny47Eu6o",
        "outputId": "a2a2e3be-be5c-4273-f5a5-7e551b38d05d",
        "colab": {
          "base_uri": "https://localhost:8080/",
          "height": 204
        }
      },
      "source": [
        "filtered.head()"
      ],
      "execution_count": 19,
      "outputs": [
        {
          "output_type": "execute_result",
          "data": {
            "text/html": [
              "<div>\n",
              "<style scoped>\n",
              "    .dataframe tbody tr th:only-of-type {\n",
              "        vertical-align: middle;\n",
              "    }\n",
              "\n",
              "    .dataframe tbody tr th {\n",
              "        vertical-align: top;\n",
              "    }\n",
              "\n",
              "    .dataframe thead th {\n",
              "        text-align: right;\n",
              "    }\n",
              "</style>\n",
              "<table border=\"1\" class=\"dataframe\">\n",
              "  <thead>\n",
              "    <tr style=\"text-align: right;\">\n",
              "      <th></th>\n",
              "      <th>Save%</th>\n",
              "      <th>GA</th>\n",
              "      <th>Win%</th>\n",
              "    </tr>\n",
              "  </thead>\n",
              "  <tbody>\n",
              "    <tr>\n",
              "      <th>0</th>\n",
              "      <td>93.04</td>\n",
              "      <td>1.88</td>\n",
              "      <td>45.92</td>\n",
              "    </tr>\n",
              "    <tr>\n",
              "      <th>1</th>\n",
              "      <td>91.03</td>\n",
              "      <td>2.61</td>\n",
              "      <td>43.44</td>\n",
              "    </tr>\n",
              "    <tr>\n",
              "      <th>2</th>\n",
              "      <td>90.81</td>\n",
              "      <td>2.23</td>\n",
              "      <td>39.48</td>\n",
              "    </tr>\n",
              "    <tr>\n",
              "      <th>3</th>\n",
              "      <td>90.79</td>\n",
              "      <td>2.55</td>\n",
              "      <td>30.17</td>\n",
              "    </tr>\n",
              "    <tr>\n",
              "      <th>4</th>\n",
              "      <td>91.55</td>\n",
              "      <td>2.19</td>\n",
              "      <td>43.22</td>\n",
              "    </tr>\n",
              "  </tbody>\n",
              "</table>\n",
              "</div>"
            ],
            "text/plain": [
              "   Save%    GA   Win%\n",
              "0  93.04  1.88  45.92\n",
              "1  91.03  2.61  43.44\n",
              "2  90.81  2.23  39.48\n",
              "3  90.79  2.55  30.17\n",
              "4  91.55  2.19  43.22"
            ]
          },
          "metadata": {
            "tags": []
          },
          "execution_count": 19
        }
      ]
    },
    {
      "cell_type": "code",
      "metadata": {
        "id": "wc2PgzOBEv5I"
      },
      "source": [
        "X = filtered.iloc[:, :-1].values\n",
        "y = filtered.iloc[:, -1].values"
      ],
      "execution_count": 20,
      "outputs": []
    },
    {
      "cell_type": "code",
      "metadata": {
        "id": "CPPZ59cmE2vV"
      },
      "source": [
        "X_train, X_test, y_train, y_test = train_test_split(X, y, test_size=0.2, random_state=101)"
      ],
      "execution_count": 21,
      "outputs": []
    },
    {
      "cell_type": "code",
      "metadata": {
        "id": "VSxaxa6bE3Qi"
      },
      "source": [
        "multi_regressor = LinearRegression()"
      ],
      "execution_count": 22,
      "outputs": []
    },
    {
      "cell_type": "code",
      "metadata": {
        "id": "OlLp6rS9FHMi",
        "outputId": "dcbe7057-987d-4c24-8c82-52302f8d620c",
        "colab": {
          "base_uri": "https://localhost:8080/",
          "height": 34
        }
      },
      "source": [
        "multi_regressor.fit(X_train, y_train)"
      ],
      "execution_count": 23,
      "outputs": [
        {
          "output_type": "execute_result",
          "data": {
            "text/plain": [
              "LinearRegression(copy_X=True, fit_intercept=True, n_jobs=None, normalize=False)"
            ]
          },
          "metadata": {
            "tags": []
          },
          "execution_count": 23
        }
      ]
    },
    {
      "cell_type": "markdown",
      "metadata": {
        "id": "JK4cvy_pz95w"
      },
      "source": [
        "**It can be seen that the save percentage doesn't have a strong correlation with win percentage, where as similar negative correlation compared to the simple linear regression showed for the goals against average.**"
      ]
    },
    {
      "cell_type": "code",
      "metadata": {
        "id": "kyBLU3JwFKgY",
        "outputId": "f352da45-3ba7-4b6b-beea-de315e792604",
        "colab": {
          "base_uri": "https://localhost:8080/",
          "height": 34
        }
      },
      "source": [
        "print(multi_regressor.coef_)"
      ],
      "execution_count": 24,
      "outputs": [
        {
          "output_type": "stream",
          "text": [
            "[  0.1197213  -18.76478454]\n"
          ],
          "name": "stdout"
        }
      ]
    },
    {
      "cell_type": "markdown",
      "metadata": {
        "id": "QDrEdkJQAiPV"
      },
      "source": [
        "# Phase II"
      ]
    },
    {
      "cell_type": "markdown",
      "metadata": {
        "id": "2-sUH7ec_5Ak"
      },
      "source": [
        "**Next, let's explore the relationship goalie's save percentage and goals against average (ga), *prior* to a single match, to the outcome of the match. Ie. let's try to explore, if the goalies with better save percentage/ga win more matches than the goalies with worse stats.**"
      ]
    },
    {
      "cell_type": "code",
      "metadata": {
        "id": "baXwB2V0Giin"
      },
      "source": [
        "match_data = pd.read_csv('all_matches_with_avgs.csv')"
      ],
      "execution_count": 27,
      "outputs": []
    },
    {
      "cell_type": "markdown",
      "metadata": {
        "id": "0W52h_PkC81T"
      },
      "source": [
        "**Let's create a new variable 'match_goal_diff'. It is the goal difference of a single match. If it's negative, away team won, if positive, home team won. If the difference is zero, the match ended as draw, after the extra time.**"
      ]
    },
    {
      "cell_type": "code",
      "metadata": {
        "id": "DVYoCGVaZeXl"
      },
      "source": [
        "match_data['match_goal_diff'] = match_data['home_goals'] - match_data['away_goals']"
      ],
      "execution_count": 28,
      "outputs": []
    },
    {
      "cell_type": "markdown",
      "metadata": {
        "id": "rqJseVvCFtu3"
      },
      "source": [
        "**Let's create two more variables for save percentage differerence between the starting goalies and for the ga difference between the goalies.**"
      ]
    },
    {
      "cell_type": "code",
      "metadata": {
        "id": "XMIF3x12ZvYl"
      },
      "source": [
        "match_data['save_percentage_diff'] = round(match_data['home_save_percentage'] - match_data['away_save_percentage'], 2)\n",
        "match_data['ga_diff'] = round(match_data['home_ga'] - match_data['away_ga'], 2)"
      ],
      "execution_count": 29,
      "outputs": []
    },
    {
      "cell_type": "code",
      "metadata": {
        "id": "MPNV1WIYaB-o"
      },
      "source": [
        "# These function determines, if the better goalie's team won the match.\n",
        "# Better by save percentage.\n",
        "def check_save_perc_wins(match):\n",
        "  if match['match_goal_diff'] < 0 and match['save_percentage_diff'] < 0: # Away win.\n",
        "    return 1\n",
        "  elif match['match_goal_diff'] > 0 and match['save_percentage_diff'] > 0:\n",
        "    return 1\n",
        "  else:\n",
        "    return 0\n",
        "\n",
        "# Better by goals against average.\n",
        "def check_ga_wins(match):\n",
        "  if match['match_goal_diff'] < 0 and match['ga_diff'] > 0: # Away win.\n",
        "    return 1\n",
        "  elif match['match_goal_diff'] > 0 and match['ga_diff'] < 0:\n",
        "    return 1\n",
        "  else:\n",
        "    return 0"
      ],
      "execution_count": 36,
      "outputs": []
    },
    {
      "cell_type": "markdown",
      "metadata": {
        "id": "gAEW5F6WWipP"
      },
      "source": [
        "**Let's calculate, how many times the better goalie's team actually won, according to save percentage and ga.**"
      ]
    },
    {
      "cell_type": "code",
      "metadata": {
        "id": "JMAebj7DarSZ"
      },
      "source": [
        "match_data['better_goalie_won_save_perc'] = match_data.apply(check_save_perc_wins, axis=1)\n",
        "match_data['better_goalie_won_ga'] = match_data.apply(check_ga_wins, axis=1)"
      ],
      "execution_count": 37,
      "outputs": []
    },
    {
      "cell_type": "code",
      "metadata": {
        "id": "Z7w2DAZZx5JC",
        "outputId": "05042f09-9005-4818-8655-104c418d5dd7",
        "colab": {
          "base_uri": "https://localhost:8080/",
          "height": 300
        }
      },
      "source": [
        "sns.countplot(match_data['better_goalie_won_save_perc'])"
      ],
      "execution_count": 39,
      "outputs": [
        {
          "output_type": "execute_result",
          "data": {
            "text/plain": [
              "<matplotlib.axes._subplots.AxesSubplot at 0x7fe2d1ef5518>"
            ]
          },
          "metadata": {
            "tags": []
          },
          "execution_count": 39
        },
        {
          "output_type": "display_data",
          "data": {
            "image/png": "[encoded data removed]",
            "text/plain": [
              "<Figure size 432x288 with 1 Axes>"
            ]
          },
          "metadata": {
            "tags": [],
            "needs_background": "light"
          }
        }
      ]
    },
    {
      "cell_type": "code",
      "metadata": {
        "id": "wYIt7oxFZKyo",
        "outputId": "382aadb1-372b-441a-9296-ac8dd7ac7f82",
        "colab": {
          "base_uri": "https://localhost:8080/",
          "height": 297
        }
      },
      "source": [
        "sns.countplot(match_data['better_goalie_won_ga'])"
      ],
      "execution_count": 40,
      "outputs": [
        {
          "output_type": "execute_result",
          "data": {
            "text/plain": [
              "<matplotlib.axes._subplots.AxesSubplot at 0x7fe2d09d9be0>"
            ]
          },
          "metadata": {
            "tags": []
          },
          "execution_count": 40
        },
        {
          "output_type": "display_data",
          "data": {
            "image/png": "[encoded data removed]",
            "text/plain": [
              "<Figure size 432x288 with 1 Axes>"
            ]
          },
          "metadata": {
            "tags": [],
            "needs_background": "light"
          }
        }
      ]
    },
    {
      "cell_type": "markdown",
      "metadata": {
        "id": "3tSPdA6TZb07"
      },
      "source": [
        "**The problem with both of the calculations is that the goalie is considered better whether the save percentage/ga difference between the goalies is 0.01 or 5.00 units. So, first instead of just calculating the differences between save percentages and gas, let's calculate their distance from each other, and then let's get the means of those distances.**"
      ]
    },
    {
      "cell_type": "code",
      "metadata": {
        "id": "FF0pqhw1cJU1"
      },
      "source": [
        "# This function calculates the distance between the goalies' save percentages.\n",
        "def save_perc_distance(match):\n",
        "  diff = match['home_save_percentage'] - match['away_save_percentage']\n",
        "  return round(np.sqrt(diff * diff), 2)\n",
        "\n",
        "# This function calculates the distance between the goalies' goals against averages.\n",
        "def ga_distance(match):\n",
        "  diff = match['home_ga'] - match['away_ga']\n",
        "  return round(np.sqrt(diff * diff), 2)"
      ],
      "execution_count": 50,
      "outputs": []
    },
    {
      "cell_type": "code",
      "metadata": {
        "id": "qgBzeK1leJy4"
      },
      "source": [
        "match_data['save_perc_distance'] = match_data.apply(save_perc_distance, axis=1)\n",
        "match_data['ga_distance'] = match_data.apply(ga_distance, axis=1)"
      ],
      "execution_count": 51,
      "outputs": []
    },
    {
      "cell_type": "markdown",
      "metadata": {
        "id": "FXmLJjhafpe4"
      },
      "source": [
        "**Let's calculate the means of save percentage distance and ga distance.**"
      ]
    },
    {
      "cell_type": "code",
      "metadata": {
        "id": "9eshRp57jLlf",
        "outputId": "99ac0c00-49c4-47e1-85ee-38ea08fea37b",
        "colab": {
          "base_uri": "https://localhost:8080/",
          "height": 34
        }
      },
      "source": [
        "save_perc_distance_mean = match_data['save_perc_distance'].mean()\n",
        "ga_distance_mean = match_data['ga_distance'].mean()\n",
        "print(save_perc_distance_mean, ga_distance_mean)"
      ],
      "execution_count": 53,
      "outputs": [
        {
          "output_type": "stream",
          "text": [
            "1.625876479289938 0.5171301775147985\n"
          ],
          "name": "stdout"
        }
      ]
    },
    {
      "cell_type": "markdown",
      "metadata": {
        "id": "YyoKq58RlVbH"
      },
      "source": [
        "**Now that we know that the mean distance of save percentages is 1.6 and goals against averages is 0.52, let's use them to define which goalie is actually better. So, if either of the values is smaller than the mean, let's omit those matches.**"
      ]
    },
    {
      "cell_type": "code",
      "metadata": {
        "id": "hGe4IvZ-zouS"
      },
      "source": [
        "ga_differs = match_data[match_data['ga_diff'] >= 0.5]\n",
        "save_perc_differs = match_data[match_data['save_perc_diff'] >= 1.6]"
      ],
      "execution_count": 54,
      "outputs": []
    },
    {
      "cell_type": "code",
      "metadata": {
        "id": "-bCEJTsLeLX8",
        "outputId": "1fcee756-ae8f-4ada-91e6-89cee76b62c2",
        "colab": {
          "base_uri": "https://localhost:8080/",
          "height": 34
        }
      },
      "source": [
        "print(len(ga_differs), len(save_perc_differs))"
      ],
      "execution_count": 55,
      "outputs": [
        {
          "output_type": "stream",
          "text": [
            "2164 4334\n"
          ],
          "name": "stdout"
        }
      ]
    },
    {
      "cell_type": "markdown",
      "metadata": {
        "id": "VOaAaBDCmd2U"
      },
      "source": [
        "**It seems that using the means as a separator for a better goalie is a little bit to big, so let's try other values as well.**"
      ]
    },
    {
      "cell_type": "code",
      "metadata": {
        "id": "5o_4DJYhmXIn",
        "outputId": "1ab95fa8-3e51-4716-a09a-1b781d678cd6",
        "colab": {
          "base_uri": "https://localhost:8080/",
          "height": 119
        }
      },
      "source": [
        "ga_differs_0_4 = match_data[match_data['ga_diff'] >= 0.4]\n",
        "save_perc_differs_1_4 = match_data[match_data['save_perc_diff'] >= 1.4]\n",
        "ga_differs_0_3 = match_data[match_data['ga_diff'] >= 0.3]\n",
        "save_perc_differs_1_3 = match_data[match_data['save_perc_diff'] >= 1.3]\n",
        "ga_differs_0_25 = match_data[match_data['ga_diff'] >= 0.25]\n",
        "save_perc_differs_1_25 = match_data[match_data['save_perc_diff'] >= 1.25]\n",
        "\n",
        "print(\"GA 0.4, Save % 1.4\")\n",
        "print(len(ga_differs_0_4), len(save_perc_differs_1_4))\n",
        "print(\"GA 0.3, Save % 1.3\")\n",
        "print(len(ga_differs_0_3), len(save_perc_differs_1_3))\n",
        "print(\"GA 0.25, Save % 1.25\")\n",
        "print(len(ga_differs_0_25), len(save_perc_differs_1_25))"
      ],
      "execution_count": 57,
      "outputs": [
        {
          "output_type": "stream",
          "text": [
            "GA 0.4, Save % 1.4\n",
            "2662 4948\n",
            "GA 0.3, Save % 1.3\n",
            "3261 5279\n",
            "GA 0.25, Save % 1.25\n",
            "3551 5452\n"
          ],
          "name": "stdout"
        }
      ]
    },
    {
      "cell_type": "markdown",
      "metadata": {
        "id": "pBhva5JJn4BZ"
      },
      "source": [
        "**Means of 0.3 for GA and 1.3 for save percentage seems to be a good middle ground to have enough data for comparison.**"
      ]
    },
    {
      "cell_type": "code",
      "metadata": {
        "id": "LpdJsQ3QnD8J",
        "outputId": "1c18fe52-925b-4de6-84bc-5251aab4d634",
        "colab": {
          "base_uri": "https://localhost:8080/",
          "height": 297
        }
      },
      "source": [
        "sns.countplot(save_perc_differs_1_3['better_goalie_won_save_perc'])"
      ],
      "execution_count": 58,
      "outputs": [
        {
          "output_type": "execute_result",
          "data": {
            "text/plain": [
              "<matplotlib.axes._subplots.AxesSubplot at 0x7fe2c8aa2f28>"
            ]
          },
          "metadata": {
            "tags": []
          },
          "execution_count": 58
        },
        {
          "output_type": "display_data",
          "data": {
            "image/png": "[encoded data removed]",
            "text/plain": [
              "<Figure size 432x288 with 1 Axes>"
            ]
          },
          "metadata": {
            "tags": [],
            "needs_background": "light"
          }
        }
      ]
    },
    {
      "cell_type": "code",
      "metadata": {
        "id": "_O3FbuvcoPOL",
        "outputId": "71acb795-b24b-4f2b-9808-25ddff574916",
        "colab": {
          "base_uri": "https://localhost:8080/",
          "height": 297
        }
      },
      "source": [
        "sns.countplot(ga_differs_0_3['better_goalie_won_ga'])"
      ],
      "execution_count": 59,
      "outputs": [
        {
          "output_type": "execute_result",
          "data": {
            "text/plain": [
              "<matplotlib.axes._subplots.AxesSubplot at 0x7fe2c8ad6278>"
            ]
          },
          "metadata": {
            "tags": []
          },
          "execution_count": 59
        },
        {
          "output_type": "display_data",
          "data": {
            "image/png": "[encoded data removed]",
            "text/plain": [
              "<Figure size 432x288 with 1 Axes>"
            ]
          },
          "metadata": {
            "tags": [],
            "needs_background": "light"
          }
        }
      ]
    },
    {
      "cell_type": "markdown",
      "metadata": {
        "id": "yEoFamOcxEJ8"
      },
      "source": [
        "**As we can see, just by watching the countplots, at least when tested on a very rudimentary level, the claim that \"if there is difference between the goalies, the better goalie's team will win\" is incorrect.**"
      ]
    }
  ]
}